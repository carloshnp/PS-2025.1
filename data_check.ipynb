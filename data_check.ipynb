{
 "cells": [
  {
   "cell_type": "code",
   "execution_count": null,
   "metadata": {},
   "outputs": [],
   "source": [
    "import pandas as pd\n",
    "import matplotlib.pyplot as plt\n",
    "import seaborn as sns\n",
    "import pandas.api.types as ptypes\n",
    "\n",
    "games = pd.read_csv('./PS-2025.1/Data/campeonatos_futebol_atualizacao.csv')\n",
    "\n",
    "games.info()"
   ]
  },
  {
   "cell_type": "code",
   "execution_count": null,
   "metadata": {},
   "outputs": [],
   "source": [
    "print(games.head(20))"
   ]
  },
  {
   "cell_type": "markdown",
   "metadata": {},
   "source": [
    "## Dicionário de dados\n",
    "\n",
    "|    | Colunas             | Tipo de dados   | Descrição                                                                                             |   Resultados Iniciais | Hipóteses                                                                                                                                                                                              |\n",
    "|---:|:--------------------|:----------------|:------------------------------------------------------------------------------------------------------|----------------------:|:-------------------------------------------------------------------------------------------------------------------------------------------------------------------------------------------------------|\n",
    "|  0 | Chutes a gol 1      | float64         | Número de finalizações que foram enquadradas (ao menos foram na direção do gol) pelo time 1 / time 2. |                   nan | Tem missing? Qual a relação com o número de gols? Tem um desvio padrão baixo em relação ao número de chutes a gol e ao número de gols?                                                                 |\n",
    "|  1 | Chutes a gol 2      | float64         | Número de finalizações que foram enquadradas (ao menos foram na direção do gol) pelo time 1 / time 2. |                   nan | Tem missing? Qual a relação com o número de gols? Tem um desvio padrão baixo em relação ao número de chutes a gol e ao número de gols?                                                                 |\n",
    "|  2 | Impedimentos 1      | float64         | Quantas vezes cada time foi pego em posição de impedimento.                                           |                   nan | Tem missing? Qual a relação com tiro de meta? Tem relação negativa com o número de gols?                                                                                                               |\n",
    "|  3 | Impedimentos 2      | float64         | Quantas vezes cada time foi pego em posição de impedimento.                                           |                   nan | Tem missing? Qual a relação com tiro de meta? Tem relação negativa com o número de gols?                                                                                                               |\n",
    "|  4 | Escanteios 1        | float64         | Total de cobranças de escanteio a favor de cada equipe.                                               |                   nan | Tem missing? Qual o impacto dos escanteios nos gols? É algum indicativo de que o time está com melhor ataque? Isso reduz ou aumenta o número de gols nas partidas? Tem relação com chutes bloqueados?  |\n",
    "|  5 | Escanteios 2        | float64         | Total de cobranças de escanteio a favor de cada equipe.                                               |                   nan | Tem missing? Qual o impacto dos escanteios nos gols? É algum indicativo de que o time está com melhor ataque? Isso reduz ou aumenta o número de gols nas partidas? Tem relação com chutes bloqueados?  |\n",
    "|  6 | Chutes fora 1       | float64         | Finalizações que não foram na direção do gol (para fora) de cada time.                                |                   nan | Tem missing? Tem relação com o número de gols? Tem relação com a força do ataque do time?                                                                                                              |\n",
    "|  7 | Chutes fora 2       | float64         | Finalizações que não foram na direção do gol (para fora) de cada time.                                |                   nan | Tem missing? Tem relação com o número de gols? Tem relação com a força do ataque do time?                                                                                                              |\n",
    "|  8 | Faltas 1            | float64         | Quantas faltas cada time cometeu durante a partida.                                                   |                   nan | Tem missing?                                                                                                                                                                                           |\n",
    "|  9 | Faltas 2            | float64         | Quantas faltas cada time cometeu durante a partida.                                                   |                   nan | Tem missing?                                                                                                                                                                                           |\n",
    "| 10 | Cartões amarelos 1  | float64         | Quantos cartões amarelos foram mostrados a jogadores de cada time.                                    |                   nan | Tem missing?                                                                                                                                                                                           |\n",
    "| 11 | Cartões amarelos 2  | float64         | Quantos cartões amarelos foram mostrados a jogadores de cada time.                                    |                   nan | Tem missing?                                                                                                                                                                                           |\n",
    "| 12 | Cartões vermelhos 1 | float64         | Quantos cartões vermelhos foram mostrados a jogadores de cada time.                                   |                   nan | Tem missing?                                                                                                                                                                                           |\n",
    "| 13 | Cartões vermelhos 2 | float64         | Quantos cartões vermelhos foram mostrados a jogadores de cada time.                                   |                   nan | Tem missing?                                                                                                                                                                                           |\n",
    "| 14 | Cruzamentos 1       | float64         | Número de passes laterais elevados (cruzamentos) realizados por cada equipe.                          |                   nan | Tem missing? Tem relação com chutes a gol/chutes para fora/gols? Tem relação com impedimento/tiro de meta?                                                                                             |\n",
    "| 15 | Cruzamentos 2       | float64         | Número de passes laterais elevados (cruzamentos) realizados por cada equipe.                          |                   nan | Tem missing? Tem relação com chutes a gol/chutes para fora/gols? Tem relação com impedimento/tiro de meta?                                                                                             |\n",
    "| 16 | Laterais 1          | float64         | Quantas vezes cada time executou arremessos laterais.                                                 |                   nan | Tem missing?                                                                                                                                                                                           |\n",
    "| 17 | Laterais 2          | float64         | Quantas vezes cada time executou arremessos laterais.                                                 |                   nan | Tem missing?                                                                                                                                                                                           |\n",
    "| 18 | Chutes bloqueados 1 | float64         | Finalizações de cada time que foram bloqueadas por defensores adversários.                            |                   nan | Tem missing? Tem relação com os contra-ataques? Tem relação com faltas?                                                                                                                                |\n",
    "| 19 | Chutes bloqueados 2 | float64         | Finalizações de cada time que foram bloqueadas por defensores adversários.                            |                   nan | Tem missing? Tem relação com os contra-ataques? Tem relação com faltas?                                                                                                                                |\n",
    "| 20 | Contra-ataques 1    | float64         | Quantas ações de contra-ataque (recuperação e transição rápida) cada equipe conduziu.                 |                   nan | Tem missing? Qual a relação do número de contra-ataques com a frequência de gols/chutes a gol?                                                                                                         |\n",
    "| 21 | Contra-ataques 2    | float64         | Quantas ações de contra-ataque (recuperação e transição rápida) cada equipe conduziu.                 |                   nan | Tem missing? Qual a relação do número de contra-ataques com a frequência de gols/chutes a gol?                                                                                                         |\n",
    "| 22 | Gols 1              | float64         | Número de gols marcados por cada time.                                                                |                   nan | Tem missing? Quais variáveis estão mais fortemente relacionadas com o número de gols?                                                                                                                  |\n",
    "| 23 | Gols 2              | float64         | Número de gols marcados por cada time.                                                                |                   nan | Tem missing? Quais variáveis estão mais fortemente relacionadas com o número de gols?                                                                                                                  |\n",
    "| 24 | Tiro de meta 1      | float64         | Quantos arremessos de meta (goal kicks) cada time cobrou.                                             |                   nan | Tem missing? É diretamente relacionado com os chutes para fora? Tem alguma relação com chutes a gol/chutes bloqueados?                                                                                 |\n",
    "| 25 | Tiro de meta 2      | float64         | Quantos arremessos de meta (goal kicks) cada time cobrou.                                             |                   nan | Tem missing? É diretamente relacionado com os chutes para fora? Tem alguma relação com chutes a gol/chutes bloqueados?                                                                                 |\n",
    "| 26 | Tratamentos 1       | float64         | Quantas vezes jogadores de cada time receberam atendimento médico em campo.                           |                   nan | Tem missing? Tem relação negativa com chutes e tentativas de gols?                                                                                                                                     |\n",
    "| 27 | Tratamentos 2       | float64         | Quantas vezes jogadores de cada time receberam atendimento médico em campo.                           |                   nan | Tem missing? Tem relação negativa com chutes e tentativas de gols?                                                                                                                                     |\n",
    "| 28 | Substituições 1     | float64         | Número de trocas de jogadores realizadas por cada equipe.                                             |                   nan | Tem missing? Tem alguma alteração com o número de gols quando há mais substituições?                                                                                                                   |\n",
    "| 29 | Substituições 2     | float64         | Número de trocas de jogadores realizadas por cada equipe.                                             |                   nan | Tem missing? Tem alguma alteração com o número de gols quando há mais substituições?                                                                                                                   |\n",
    "| 30 | Tiros-livres 1      | float64         | Quantas cobranças de falta (tiros livres) cada time teve.                                             |                   nan | Tem missing? Tem alguma relação com o número de gols? Tem relação negativa com o número de chutes para fora/chutes a gol?                                                                              |\n",
    "| 31 | Tiros-livres 2      | float64         | Quantas cobranças de falta (tiros livres) cada time teve.                                             |                   nan | Tem missing? Tem alguma relação com o número de gols? Tem relação negativa com o número de chutes para fora/chutes a gol?                                                                              |\n",
    "| 32 | Defesas difíceis 1  | float64         | Número de defesas de alta dificuldade feitas pelos goleiros de cada time.                             |                   nan | Tem missing?                                                                                                                                                                                           |\n",
    "| 33 | Defesas difíceis 2  | float64         | Número de defesas de alta dificuldade feitas pelos goleiros de cada time.                             |                   nan | Tem missing?                                                                                                                                                                                           |\n",
    "| 34 | Posse 1(%)          | float64         | Percentual de tempo de posse de bola de cada equipe ao longo da partida.                              |                   nan | Tem missing?                                                                                                                                                                                           |\n",
    "| 35 | Posse 2(%)          | float64         | Percentual de tempo de posse de bola de cada equipe ao longo da partida.                              |                   nan | Tem missing?                                                                                                                                                                                           |\n",
    "| 36 | Time 1              | string          | Nome do time da casa (1) e do time visitante (2).                                                     |                   nan | Tem missing? É somente para identificar os times? Precisa de uma métrica para performance? Tem times com performance melhor? Quais times se relacionam melhor com determinadas métricas do que outros? |\n",
    "| 37 | Time 2              | string          | Nome do time da casa (1) e do time visitante (2).                                                     |                   nan | Tem missing? É somente para identificar os times? Precisa de uma métrica para performance? Tem times com performance melhor? Quais times se relacionam melhor com determinadas métricas do que outros? |\n",
    "| 38 | Position 1          | string          | Posição tática inicial ou formação de cada equipe (por exemplo: 4-4-2, 3-5-2 etc.).                   |                   nan | Tem missing? Qual o impacto disso nas vitórias dos times? Impacta mais quais equipes? É relevante olhar inicialmente?                                                                                  |\n",
    "| 39 | Position 2          | string          | Posição tática inicial ou formação de cada equipe (por exemplo: 4-4-2, 3-5-2 etc.).                   |                   nan | Tem missing? Qual o impacto disso nas vitórias dos times? Impacta mais quais equipes? É relevante olhar inicialmente?                                                                                  |"
   ]
  },
  {
   "cell_type": "code",
   "execution_count": null,
   "metadata": {},
   "outputs": [],
   "source": [
    "unique_teams = pd.concat([games['Time 1'], games['Time 2']]).unique()\n",
    "\n",
    "num_unique_teams = len(unique_teams)\n",
    "print(f'Number of unique teams: {num_unique_teams}')"
   ]
  },
  {
   "cell_type": "code",
   "execution_count": null,
   "metadata": {},
   "outputs": [],
   "source": [
    "percentage_missing_rows = games.isna().sum()/games.shape[0] * 100\n",
    "percentage_missing_rows"
   ]
  },
  {
   "cell_type": "code",
   "execution_count": null,
   "metadata": {},
   "outputs": [],
   "source": [
    "filtered_columns_by_missing = percentage_missing_rows[percentage_missing_rows <= 11]\n",
    "filtered_columns_by_missing"
   ]
  },
  {
   "cell_type": "code",
   "execution_count": null,
   "metadata": {},
   "outputs": [],
   "source": [
    "def criar_coluna_resultado(df):\n",
    "    \"\"\"\n",
    "    Cria uma coluna 'Resultado' em um DataFrame com base nas colunas 'Gols 1' e 'Gols 2'.\n",
    "  \n",
    "    Args:\n",
    "      df: DataFrame do pandas contendo as colunas 'Gols 1' e 'Gols 2'.\n",
    "  \n",
    "    Returns:\n",
    "      DataFrame com a nova coluna 'Resultado'.\n",
    "    \"\"\"\n",
    "    def determinar_resultado(row):\n",
    "      if row['Gols 1'] > row['Gols 2']:\n",
    "        return 'Casa'\n",
    "      elif row['Gols 1'] < row['Gols 2']:\n",
    "        return 'Visitante'\n",
    "      else:\n",
    "        return 'Empate'\n",
    "  \n",
    "    df['Resultado'] = df.apply(determinar_resultado, axis=1)\n",
    "    return df\n",
    "\n",
    "games = criar_coluna_resultado(games)\n",
    "games"
   ]
  },
  {
   "cell_type": "markdown",
   "metadata": {},
   "source": [
    "- Para os dados faltantes, será que podemos assumir dois datasets diferentes?\n",
    "  - Um dataset com menos dados, contendo as colunas mais populadas, focando em relações mais simples\n",
    "  - Um dataset com mais dados, contendo a maioria das colunas, focando em relações que evidenciem detalhes e suportem hipóteses do dataset anterior\n",
    "- Por exemplo, será que defesas difíceis revelam um número menor de gols, mesmo com um ataque forte (alta frequência de chutes fora e no gol)?"
   ]
  },
  {
   "cell_type": "markdown",
   "metadata": {},
   "source": [
    "# Análise Univariada\n",
    "\n",
    "## Definindo funções auxiliares para calcular estatísticas descritivas e gerar gráficos para variáveis contínuas e categóricas"
   ]
  },
  {
   "cell_type": "code",
   "execution_count": null,
   "metadata": {},
   "outputs": [],
   "source": [
    "def univariada_variavel_numerica(dado: pd.DataFrame, variaveis: list):\n",
    "    \"\"\"\n",
    "    Gera análises univariadas (estatísticas descritivas e gráficos) para\n",
    "    uma ou mais variáveis numéricas fornecidas em uma lista.\n",
    "\n",
    "    Exibe uma tabela comparativa com as estatísticas descritivas de todas as variáveis.\n",
    "    Em seguida, exibe os gráficos (Histograma com KDE, Gráfico de violino,\n",
    "    Box plot, Box plot com pontos sobrepostos) para todas as variáveis lado a lado.\n",
    "    A grid de gráficos terá 4 linhas (um por tipo de gráfico) e N colunas\n",
    "    (uma por variável), onde N é o número de variáveis fornecidas.\n",
    "\n",
    "    Parâmetros:\n",
    "        dado (pd.DataFrame): Base de dados contendo as variáveis.\n",
    "        variaveis (list): Uma lista contendo os nomes de uma ou mais variáveis\n",
    "                          numéricas a serem analisadas (ex: ['coluna1'], ['colunaA', 'colunaB', ...]).\n",
    "\n",
    "    Retorna:\n",
    "        None\n",
    "\n",
    "    Exemplo de uso:\n",
    "        >> dado = pd.DataFrame({\n",
    "        >>    \"variavel_exemplo1\": np.random.normal(loc=50, scale=10, size=100),\n",
    "        >>    \"variavel_exemplo2\": np.random.normal(loc=60, scale=15, size=100),\n",
    "        >>    \"variavel_exemplo3\": np.random.normal(loc=40, scale=5, size=100)\n",
    "        >> })\n",
    "        >> univariada_variavel_numerica(dado, [\"variavel_exemplo1\"]) # Apenas uma variável\n",
    "        >> univariada_variavel_numerica(dado, [\"variavel_exemplo2\", \"variavel_exemplo3\"]) # Duas variáveis\n",
    "        >> univariada_variavel_numerica(dado, [\"variavel_exemplo1\", \"variavel_exemplo2\", \"variavel_exemplo3\"]) # Três variáveis\n",
    "    \"\"\"\n",
    "    # --- Validação de Input ---\n",
    "    if not isinstance(variaveis, list) or len(variaveis) < 1:\n",
    "        raise ValueError(\"O parâmetro 'variaveis' deve ser uma lista contendo pelo menos 1 nome de variável.\")\n",
    "\n",
    "    num_vars = len(variaveis)\n",
    "\n",
    "    for var in variaveis:\n",
    "        if var not in dado.columns:\n",
    "            raise ValueError(f\"A variável '{var}' não foi encontrada no DataFrame.\")\n",
    "        if not ptypes.is_numeric_dtype(dado[var]):\n",
    "            print(f\"Aviso: A variável '{var}' pode não ser numérica. Tentando plotar mesmo assim.\")\n",
    "\n",
    "\n",
    "    print(\"--- Análise Univariada para Variáveis Numéricas ---\")\n",
    "\n",
    "    # --- Estatísticas Descritivas (Combinada) ---\n",
    "    desc_stats_list = []\n",
    "    for var in variaveis:\n",
    "        desc_stats = dado[var].describe().to_frame().T\n",
    "        desc_stats.index = [var]\n",
    "        desc_stats_list.append(desc_stats)\n",
    "\n",
    "    desc_stats_combined = pd.concat(desc_stats_list, axis=0)\n",
    "    desc_stats_combined = desc_stats_combined.round(4)\n",
    "\n",
    "    print(\"\\nTabela de Estatísticas Descritivas:\")\n",
    "    display(desc_stats_combined)\n",
    "\n",
    "\n",
    "    # --- Criação dos Gráficos Lado a Lado ---\n",
    "    print(\"\\n--- Gerando gráficos lado a lado ---\")\n",
    "\n",
    "    # Layout: 4 linhas (1 por tipo de gráfico), num_vars colunas (1 por variável)\n",
    "    # Ajusta tamanho da figura: largura aumenta com o número de variáveis\n",
    "    # sharex='col' para compartilhar o eixo x dentro de cada coluna (para a mesma variável)\n",
    "    # sharey=False ou padrão, pois escalas Y são diferentes entre tipos de gráficos (contagem/densidade vs valor absoluto)\n",
    "    fig, axes = plt.subplots(4, num_vars, figsize=(6 * num_vars, 16), sharex='col')\n",
    "\n",
    "    # Garante que axes é uma array 2D, mesmo se num_vars=1\n",
    "    axes = axes.reshape(4, -1) if num_vars == 1 else axes\n",
    "\n",
    "    fig.suptitle(\"Análise Univariada Comparativa de Variáveis Numéricas\", fontsize=16, y=0.99)\n",
    "\n",
    "\n",
    "    for i, var in enumerate(variaveis):\n",
    "        # Histograma\n",
    "        sns.histplot(dado[var].dropna(), kde=True, ax=axes[0, i], color=\"skyblue\")\n",
    "        axes[0, i].set_title(f\"Histograma\\n({var})\", fontsize=10) # Título com nome da variável\n",
    "        # Com sharex='col', o xlabel é automaticamente removido nesta linha (não a última)\n",
    "        # axes[0, i].set_xlabel('') # Redundante com sharex='col'\n",
    "\n",
    "        # Gráfico de violino\n",
    "        # Adicionado sharey=axes[1, 0] explicitamente se num_vars > 1 para comparar Y (densidade/distribuição) nesta linha\n",
    "        sharey_violin = axes[1, 0] if num_vars > 1 and i > 0 else None\n",
    "        sns.violinplot(x=dado[var].dropna(), ax=axes[1, i], color=\"orange\", orient='h')\n",
    "        axes[1, i].set_title(f\"Violino\\n({var})\", fontsize=10)\n",
    "        if sharey_violin: axes[1, i].sharey(sharey_violin)\n",
    "        axes[1, i].set_ylabel('') # Remove Y label para plots que compartilham Y\n",
    "        if i > 0: # Remove Y ticks para colunas após a primeira se compartilhando Y\n",
    "             axes[1, i].tick_params(axis='y', labelleft=False)\n",
    "        # Com sharex='col', o xlabel é automaticamente removido nesta linha (não a última)\n",
    "        # axes[1, i].set_xlabel('') # Redundante com sharex='col'\n",
    "\n",
    "\n",
    "        # Box plot\n",
    "        # Adicionado sharey=axes[2, 0] explicitamente se num_vars > 1 para comparar Y (escala de valor) nesta linha\n",
    "        sharey_box = axes[2, 0] if num_vars > 1 and i > 0 else None\n",
    "        sns.boxplot(x=dado[var].dropna(), ax=axes[2, i], color=\"purple\", orient='h')\n",
    "        axes[2, i].set_title(f\"Box plot\\n({var})\", fontsize=10)\n",
    "        if sharey_box: axes[2, i].sharey(sharey_box)\n",
    "        axes[2, i].set_ylabel('') # Remove Y label para plots que compartilham Y\n",
    "        if i > 0: # Remove Y ticks para colunas após a primeira se compartilhando Y\n",
    "             axes[2, i].tick_params(axis='y', labelleft=False)\n",
    "        # Com sharex='col', o xlabel é automaticamente removido nesta linha (não a última)\n",
    "        # axes[2, i].set_xlabel('') # Redundante com sharex='col'\n",
    "\n",
    "\n",
    "        # Box plot com pontos sobrepostos\n",
    "        # Adicionado sharey=axes[3, 0] explicitamente se num_vars > 1 para comparar Y (escala de valor) nesta linha\n",
    "        sharey_box_strip = axes[3, 0] if num_vars > 1 and i > 0 else None\n",
    "        sns.boxplot(x=dado[var].dropna(), ax=axes[3, i], color=\"gray\", orient='h')\n",
    "        sns.stripplot(x=dado[var].dropna(), ax=axes[3, i], color=\"black\", alpha=0.5, jitter=True, size=3, orient='h')\n",
    "        axes[3, i].set_title(f\"Box plot c/ pontos\\n({var})\", fontsize=10)\n",
    "        if sharey_box_strip: axes[3, i].sharey(sharey_box_strip)\n",
    "        axes[3, i].set_xlabel(var) # Define o label x apenas no último plot da coluna\n",
    "        axes[3, i].set_ylabel('') # Remove Y label para plots que compartilham Y\n",
    "        if i > 0: # Remove Y ticks para colunas após a primeira se compartilhando Y\n",
    "             axes[3, i].tick_params(axis='y', labelleft=False)\n",
    "\n",
    "        # --- SEÇÃO PROBLEMÁTICA REMOVIDA ---\n",
    "        # Com sharex='col', a remoção dos labels X nas linhas superiores é automática.\n",
    "        # O código abaixo que causou o erro foi removido:\n",
    "        # for row in range(3):\n",
    "        #      if axes[row, i].get_shared_x_axes().joined(axes[3, i]):\n",
    "        #           axes[row, i].set_xlabel('')\n",
    "\n",
    "\n",
    "    plt.tight_layout(rect=[0, 0, 1, 0.97]) # Ajusta layout para não sobrepor o título principal\n",
    "    plt.show()\n",
    "\n",
    "    print(\"\\n--- Análise Univariada para Variáveis Numéricas Concluída ---\")\n",
    "\n",
    "def univariada_variavel_categoria(dado: pd.DataFrame, variaveis: list):\n",
    "    \"\"\"\n",
    "    Análises univariadas (tabelas e gráficos de barras) para\n",
    "    uma ou mais variáveis categóricas fornecidas em uma lista.\n",
    "\n",
    "    Para cada variável na lista, são gerados sequencialmente:\n",
    "    1. O describe transposto e formatado em uma tabela.\n",
    "    2. Uma tabela com a frequência de cada nível (incluindo percentuais e total).\n",
    "\n",
    "    Em seguida, exibe os gráficos de barras de frequência para todas as variáveis\n",
    "    lado a lado em um único figure. A grid de gráficos terá 1 linha e N colunas\n",
    "    (uma por variável), onde N é o número de variáveis fornecidas.\n",
    "\n",
    "    Parâmetros:\n",
    "        dado (pd.DataFrame): O dataframe contendo os dados.\n",
    "        variaveis (list): Uma lista contendo os nomes de uma ou mais variáveis\n",
    "                          categóricas para análise (ex: ['colunaA'], ['colunaX', 'colunaY', 'colunaZ']).\n",
    "\n",
    "    Retorna:\n",
    "        None\n",
    "\n",
    "    Exemplo de uso:\n",
    "        >>> import pandas as pd\n",
    "        >>> df = pd.DataFrame({\n",
    "        >>>    'Categoria1': ['A', 'B', 'A', 'C', 'B', 'A', 'C', 'C', 'A', 'B'] * 5,\n",
    "        >>>    'Categoria2': ['X', 'Y', 'X', 'Z', 'Y', 'Z', 'X', 'Y', 'Z', 'X'] * 5,\n",
    "        >>>    'Categoria3': ['True', 'False', 'True', 'False', 'True'] * 10\n",
    "        >>> })\n",
    "        >>> univariada_variavel_categoria(df, ['Categoria1']) # Apenas uma variável\n",
    "        >>> univariada_variavel_categoria(df, ['Categoria2', 'Categoria3']) # Duas variáveis\n",
    "        >>> univariada_variavel_categoria(df, ['Categoria1', 'Categoria2', 'Categoria3']) # Três variáveis\n",
    "    \"\"\"\n",
    "    # --- Validação de Input ---\n",
    "    if not isinstance(variaveis, list) or len(variaveis) < 1:\n",
    "        raise ValueError(\"O parâmetro 'variaveis' deve ser uma lista contendo pelo menos 1 nome de variável.\")\n",
    "\n",
    "    num_vars = len(variaveis)\n",
    "\n",
    "    for var in variaveis:\n",
    "         if var not in dado.columns:\n",
    "             raise ValueError(f\"A variável '{var}' não foi encontrada no DataFrame.\")\n",
    "         # Verificação mais abrangente para tipos categóricos/objetos, incluindo booleano\n",
    "         if not (ptypes.is_object_dtype(dado[var]) or ptypes.is_categorical_dtype(dado[var]) or ptypes.is_bool_dtype(dado[var])):\n",
    "             print(f\"Aviso: A variável '{var}' pode não ser categórica (object, category ou bool). Tentando analisar mesmo assim.\")\n",
    "\n",
    "\n",
    "    print(\"--- Análise Univariada para Variáveis Categóricas ---\")\n",
    "\n",
    "    # --- Análise Sequencial de Tabelas para cada variável ---\n",
    "    for i, var in enumerate(variaveis):\n",
    "        print(f\"\\n--- Análise de Tabela para Variável Categórica: {var} ({i+1}/{num_vars}) ---\")\n",
    "\n",
    "        # 1. Describe transposto e formatado\n",
    "        describe_table = dado[var].describe().to_frame().T\n",
    "        describe_table.index = [var]\n",
    "        print(f\"Describe da variável categórica: {var}\")\n",
    "        display(describe_table)\n",
    "\n",
    "        # 2. Frequência de cada nível (com percentuais e total)\n",
    "        # value_counts(dropna=False) para incluir NaNs se houver\n",
    "        frequency_table = dado[var].value_counts(dropna=False).reset_index()\n",
    "        # Garante que o nome da coluna de índice está correto, independentemente da versão pandas\n",
    "        frequency_table.columns = [var, 'Frequência']\n",
    "        frequency_table['Percentual (%)'] = (frequency_table['Frequência'] / len(dado) * 100).round(2)\n",
    "\n",
    "        # Adicionar uma linha para o total (considerando NaNs se houver)\n",
    "        total_freq = frequency_table['Frequência'].sum()\n",
    "        total_percent = (total_freq / len(dado) * 100).round(2)\n",
    "        total_row = pd.DataFrame({\n",
    "             var: ['Total (incl. NaNs se mostrados)'], # Identifica a linha total\n",
    "             'Frequência': [total_freq],\n",
    "             'Percentual (%)': [total_percent]\n",
    "        })\n",
    "        # Concatena apenas se frequency_table não estiver vazia (pode acontecer com NaNs e dropna=False)\n",
    "        if not frequency_table.empty:\n",
    "             frequency_table_display = pd.concat([frequency_table, total_row], ignore_index=True)\n",
    "        else:\n",
    "             frequency_table_display = total_row\n",
    "\n",
    "\n",
    "        print(f\"Tabela de frequência da variável categórica (com percentuais e total): {var}\")\n",
    "        display(frequency_table_display)\n",
    "\n",
    "\n",
    "    # --- Gráficos de barras lado a lado ---\n",
    "    print(\"\\n--- Gerando Gráficos de Frequência Lado a Lado ---\")\n",
    "\n",
    "    # Layout: 1 linha, num_vars colunas\n",
    "    # sharey=True para compartilhar o eixo Y entre todas as colunas (comparação direta de frequência)\n",
    "    fig, axes = plt.subplots(1, num_vars, figsize=(6 * num_vars, 6), sharey=True)\n",
    "\n",
    "    # Garante que axes é uma array 1D mesmo para num_vars=1\n",
    "    axes = [axes] if num_vars == 1 else axes.ravel()\n",
    "\n",
    "    fig.suptitle(\"Gráficos de Frequência Comparativos\", fontsize=16, y=1.02) # Título geral\n",
    "\n",
    "    for i, var in enumerate(variaveis):\n",
    "        # Recalcula a frequência apenas para plotagem, excluindo NaNs se existirem\n",
    "        # ou inclua .dropna() se quiser que NaNs não apareçam no plot\n",
    "        frequency_table_plot = dado[var].value_counts(dropna=False).reset_index()\n",
    "        frequency_table_plot.columns = [var, 'Frequência'] # Garante nomes das colunas\n",
    "        # Opcional: remover NaNs para o plot se eles aparecem na value_counts(dropna=False)\n",
    "        # frequency_table_plot = frequency_table_plot.dropna(subset=[var])\n",
    "\n",
    "        ax = axes[i] # Obtém o eixo para a variável atual\n",
    "\n",
    "        # Ordena para consistência (opcional, mas boa prática)\n",
    "        frequency_table_plot = frequency_table_plot.sort_values(by='Frequência', ascending=False)\n",
    "\n",
    "        # Verifica se há dados para plotar antes de tentar plotar\n",
    "        if not frequency_table_plot.empty:\n",
    "             sns.barplot(x=var, y='Frequência', data=frequency_table_plot, ax=ax, errorbar=None, palette='viridis')\n",
    "             ax.set_title(f'{var}', fontsize=12) # Título do subplot é só o nome da variável\n",
    "             ax.set_xlabel(var)\n",
    "             # Define o label Y apenas no primeiro gráfico\n",
    "             ax.set_ylabel('Frequência' if i == 0 else '')\n",
    "             # --- CORREÇÃO AQUI ---\n",
    "             # Rotação dos rótulos usando tick_params\n",
    "             ax.tick_params(axis='x', rotation=45)\n",
    "             # Alinhamento horizontal dos rótulos usando setp nos objetos de texto\n",
    "             plt.setp(ax.get_xticklabels(), ha='right')\n",
    "\n",
    "\n",
    "             # Adicionar os valores no topo das barras\n",
    "             # Apenas se houver patches (barras)\n",
    "             if ax.patches:\n",
    "                  for p in ax.patches:\n",
    "                       ax.annotate(f'{int(p.get_height())}',\n",
    "                                   (p.get_x() + p.get_width() / 2., p.get_height()),\n",
    "                                   ha='center', va='baseline', fontsize=9, color='black',\n",
    "                                   xytext=(0, 5), textcoords='offset points')\n",
    "        else:\n",
    "             # Lida com o caso onde não há dados válidos para plotar (ex: coluna toda NaN)\n",
    "             ax.set_title(f'Sem dados para plotar\\n({var})', fontsize=12)\n",
    "             ax.set_xlabel(var)\n",
    "             ax.set_ylabel('Frequência' if i == 0 else '')\n",
    "             ax.text(0.5, 0.5, \"Sem dados\", horizontalalignment='center', verticalalignment='center', transform=ax.transAxes)\n",
    "\n",
    "\n",
    "    plt.tight_layout(rect=[0, 0.03, 1, 0.98]) # Ajusta layout, deixando espaço para título geral\n",
    "    plt.show()\n",
    "\n",
    "    print(\"\\n--- Análise Univariada para Variáveis Categóricas Concluída ---\")"
   ]
  },
  {
   "cell_type": "markdown",
   "metadata": {},
   "source": [
    "### Linhas removidas\n",
    "\n",
    "- Colocarei as linhas removidas aqui logo de início, e a explicação estará abaixo de cada gráfico gerado para os pares de colunas."
   ]
  },
  {
   "cell_type": "code",
   "execution_count": null,
   "metadata": {},
   "outputs": [],
   "source": [
    "games.drop(games[games[\"Chutes fora 2\"] == 748.0].index, inplace=True)\n",
    "games.drop(games[games[\"Chutes a gol 1\"] == 90.0].index, inplace=True)\n",
    "games.drop(games[games[\"Chutes a gol 2\"].isin([80.0, 30.0])].index, inplace=True)\n",
    "games.drop(games[(games[\"Faltas 1\"] > 40.0) | (games[\"Faltas 2\"] > 40.0)].index, inplace=True)\n",
    "games.drop(games[(games[\"Impedimentos 1\"] > 12.0) | (games[\"Impedimentos 2\"] > 12.0)].index, inplace=True)\n",
    "games.drop(games[(games[\"Posse 1(%)\"] < 15.0) | (games[\"Posse 1(%)\"] > 85.0)].index, inplace=True)\n",
    "games.drop(games[(games[\"Posse 2(%)\"] < 15.0) | (games[\"Posse 2(%)\"] > 85.0)].index, inplace=True)"
   ]
  },
  {
   "cell_type": "code",
   "execution_count": null,
   "metadata": {},
   "outputs": [],
   "source": [
    "univariada_variavel_numerica(games, ['Gols 1', 'Gols 2'])"
   ]
  },
  {
   "cell_type": "markdown",
   "metadata": {},
   "source": [
    "- A distribuição de gols é assimétrica a direita\n",
    "- É possível perceber que times da casa possuem menos partidas com 0 gols, e com uma média de 1.52, mas uma mediana de 1.29, revelando que há um número significativo de partidas com 2 gols além de partidas com 1 gol\n",
    "- Já para times visitantes, claramente a tendência é de 1 gol por partida, e no Q1 não há gols.\n",
    "- Porém, Q3 é 2 para ambas as colunas, revelando que a maioria das partidas terão até 2 gols por time.\n",
    "- Porém, enquanto times da casa apresentam outliers acima de 3 gols, times visitantes apresentam outliers apenas a partir de 5 gols."
   ]
  },
  {
   "cell_type": "code",
   "execution_count": null,
   "metadata": {},
   "outputs": [],
   "source": [
    "univariada_variavel_numerica(games, ['Chutes a gol 1', 'Chutes a gol 2'])"
   ]
  },
  {
   "cell_type": "markdown",
   "metadata": {},
   "source": [
    "- A distribuição de chutes a gol é assimétrica para a direita\n",
    "- A média de chutes a gol por partida é de 4 para as duas colunas, mas claramente há uma tendência maior de chutes a gol pelos times da casa\n",
    "- Para 50% dos dados, há 4 chutes a gol por partida\n",
    "- Aqui também se observa uma distribuição mais concentrada para times da casa, enquanto times visitantes possuem mais outliers"
   ]
  },
  {
   "cell_type": "code",
   "execution_count": null,
   "metadata": {},
   "outputs": [],
   "source": [
    "univariada_variavel_numerica(games, ['Chutes fora 1', 'Chutes fora 2'])"
   ]
  },
  {
   "cell_type": "markdown",
   "metadata": {},
   "source": [
    "- A distribuição dos dados é assimétrica a direita, mas o valor de 748 chutes para fora não faz o menor sentido, então removemos esta linha.\n",
    "- A média de chutes para fora é de 6 para o time da casa e 5 para o visitante, com o valor mais frequente sendo 5 para o time da casa e 4 para o visitante.\n",
    "- Aqui podemos assumir uma leve tendência de tentativas a mais para o time da casa que o time visitante, com pouca diferença entre os dados."
   ]
  },
  {
   "cell_type": "code",
   "execution_count": null,
   "metadata": {},
   "outputs": [],
   "source": [
    "univariada_variavel_numerica(games, ['Chutes bloqueados 1', 'Chutes bloqueados 2'])"
   ]
  },
  {
   "cell_type": "markdown",
   "metadata": {},
   "source": [
    "- Aqui já podemos ver que o comportamento é muito similar, com a média levemente maior para os times da casa por conta dos outliers, mas a mediana é muito próxima, e os valores do IQR também.\n",
    "- Q2 exibe 2 chutes bloqueados por partida, com uma tendência levemente maior do número de bloqueios por parte dos times da casa"
   ]
  },
  {
   "cell_type": "code",
   "execution_count": null,
   "metadata": {},
   "outputs": [],
   "source": [
    "univariada_variavel_numerica(games, ['Tiro de meta 1', 'Tiro de meta 2'])"
   ]
  },
  {
   "cell_type": "markdown",
   "metadata": {},
   "source": [
    "- Já para os tiros de meta podemos ver uma distribuição assimétrica a direita e claramente uma tendência maior dos times visitantes de cobrarem mais tiros de meta, o que está de acordo com a tendência de maior tentativa e número de gols por parte dos times da casa, como foi visto nas análises anteriores.\n",
    "- Há uma média de 7 tiros de meta para o time da casa e 8 para o time visitante, com uma mediana de 3 para ambos.\n",
    "- Podemos ver que nem todos os tiros de meta são resultantes de chutes para fora, o que podem ser chutes de muito longe, chutes bloqueados pelo próprio time, disputas na linha de fundo, pênaltis perdidos, etc."
   ]
  },
  {
   "cell_type": "code",
   "execution_count": null,
   "metadata": {},
   "outputs": [],
   "source": [
    "univariada_variavel_numerica(games, ['Laterais 1', 'Laterais 2'])"
   ]
  },
  {
   "cell_type": "code",
   "execution_count": null,
   "metadata": {},
   "outputs": [],
   "source": [
    "laterais_casa = games['Laterais 1'].value_counts().sort_index()\n",
    "laterais_fora = games['Laterais 2'].value_counts().sort_index()\n",
    "\n",
    "plt.figure(figsize=(24, 4))\n",
    "sns.barplot(x=laterais_casa.index, y=laterais_casa.values, color='red')\n",
    "plt.show()\n",
    "\n",
    "\n",
    "# sns.barplot(x=laterais_fora.index, y=laterais_fora.values, color='red')"
   ]
  },
  {
   "cell_type": "markdown",
   "metadata": {},
   "source": [
    "- É possível ver que houve um erro de plotagem no gráfico do histograma para as laterais\n",
    "- Os números de laterais são levemente maiores para os times da casa, mas não há uma diferença tão explícita\n",
    "- Faz sentido contando a marcação dos times visitantes e a tendência do time da casa de ter um ataque mais forte\n",
    "- Provavelmente vai aparecer com os dados de faltas"
   ]
  },
  {
   "cell_type": "code",
   "execution_count": null,
   "metadata": {},
   "outputs": [],
   "source": [
    "univariada_variavel_numerica(games, ['Faltas 1', 'Faltas 2'])"
   ]
  },
  {
   "cell_type": "markdown",
   "metadata": {},
   "source": [
    "- Removemos alguns outliers para ambas as colunas\n",
    "- Na verdade, a média e mediana não é muito diferente para os times da casa e visitantes, com um IQR bem próximo para todas as faixas\n",
    "- Então dá pra concluir que as laterais não tem muita relação com faltas, e pode estar mais relacionado com outros dados que indiquem defesa\n",
    "- Todos os times cometem faltas no jogo, podendo ver que há outliers até 3/4 faltas e após 25/26 faltas\n",
    "- Em média, ambos os times marcam uma quantidade similar de faltas."
   ]
  },
  {
   "cell_type": "code",
   "execution_count": null,
   "metadata": {},
   "outputs": [],
   "source": [
    "univariada_variavel_numerica(games, ['Tiros-livres 1', 'Tiros-livres 2'])"
   ]
  },
  {
   "cell_type": "code",
   "execution_count": null,
   "metadata": {},
   "outputs": [],
   "source": [
    "univariada_variavel_numerica(games, ['Impedimentos 1', 'Impedimentos 2'])"
   ]
  },
  {
   "cell_type": "code",
   "execution_count": null,
   "metadata": {},
   "outputs": [],
   "source": [
    "impedimentos_1_count = games['Impedimentos 1'].value_counts().sort_index()\n",
    "\n",
    "# Calculate the percentage of value counts for the column 'Impedimentos 1'\n",
    "impedimentos_1_percentage = (impedimentos_1_count / impedimentos_1_count.sum()) * 100\n",
    "\n",
    "# Create a DataFrame to display the counts and percentages\n",
    "impedimentos_1_table = pd.DataFrame({\n",
    "    'Count': impedimentos_1_count.values,\n",
    "    'Percentage (%)': impedimentos_1_percentage.values\n",
    "}, index=impedimentos_1_count.index).sort_values(by='Count', ascending=False)\n",
    "    \n",
    "# Display the table\n",
    "impedimentos_1_table"
   ]
  },
  {
   "cell_type": "code",
   "execution_count": null,
   "metadata": {},
   "outputs": [],
   "source": [
    "impedimentos_2_count = games['Impedimentos 2'].value_counts().sort_index()\n",
    "\n",
    "# Calculate the percentage of value counts for the column 'Impedimentos 1'\n",
    "impedimentos_2_percentage = (impedimentos_2_count / impedimentos_2_count.sum()) * 100\n",
    "\n",
    "# Create a DataFrame to display the counts and percentages\n",
    "impedimentos_2_table = pd.DataFrame({\n",
    "    'Count': impedimentos_2_count.values,\n",
    "    'Percentage (%)': impedimentos_2_percentage.values\n",
    "}, index=impedimentos_2_count.index).sort_values(by='Count', ascending=False)\n",
    "    \n",
    "# Display the table\n",
    "impedimentos_2_table"
   ]
  },
  {
   "cell_type": "markdown",
   "metadata": {},
   "source": [
    "- Aqui, novamente, outliers com valores acima de 12 não fazem sentido, e foram removidos\n",
    "- As médias são praticamente as mesmas, com IQR igual para ambos times da casa e visitantes\n",
    "- Apenas é possível ver uma leve tendência para os times da casa, o que faz sentido com a hipótese de maior performance por parte dos times da casa num geral"
   ]
  },
  {
   "cell_type": "code",
   "execution_count": null,
   "metadata": {},
   "outputs": [],
   "source": [
    "univariada_variavel_numerica(games, ['Cruzamentos 1', 'Cruzamentos 2'])"
   ]
  },
  {
   "cell_type": "code",
   "execution_count": null,
   "metadata": {},
   "outputs": [],
   "source": [
    "univariada_variavel_numerica(games, ['Defesas difíceis 1', 'Defesas difíceis 2'])"
   ]
  },
  {
   "cell_type": "code",
   "execution_count": null,
   "metadata": {},
   "outputs": [],
   "source": [
    "univariada_variavel_categoria(games, ['Cartões amarelos 1', 'Cartões amarelos 2'])"
   ]
  },
  {
   "cell_type": "code",
   "execution_count": null,
   "metadata": {},
   "outputs": [],
   "source": [
    "univariada_variavel_categoria(games, ['Cartões vermelhos 1', 'Cartões vermelhos 2'])"
   ]
  },
  {
   "cell_type": "markdown",
   "metadata": {},
   "source": [
    "- Tem como usar essas variáveis como categóricas? Por exemplo, \"houve cartão vermelho\" para cartões vermelhos, e \"0\", \"1-2\", \"3+\" para cartões amarelos\n",
    "- Classificando de forma categórica, mesmo que times visitantes recebam uma maior quantidade de cartões amarelos, o comportamento é similar o suficiente para entendermos estatísticas como \"0-1\", \"2-3\", \"4+\" cartões amarelos, ou \"0\", \"1-2\", \"3+\" cartões amarelos por jogo.\n",
    "- O que acontece em jogos que possuem mais de 3 cartões amarelos?\n",
    "- Cartões vermelhos provavelmente podem ser tratados como categóricos, já que é facilmente observável o mesmo padrão para ambos os times, simplificanto a abordagem para \"houve cartão vermelho?\".\n",
    "- O que acontece em jogos que possuem 1 cartão vermelho?"
   ]
  },
  {
   "cell_type": "code",
   "execution_count": null,
   "metadata": {},
   "outputs": [],
   "source": [
    "univariada_variavel_numerica(games, ['Escanteios 1', 'Escanteios 2'])"
   ]
  },
  {
   "cell_type": "markdown",
   "metadata": {},
   "source": [
    "Podemos ver uma tendência de 5.5 escanteios por jogo do time da casa, e 4.5 do time visitante, novamente com uma maior tendência de atuação de ataque pelo time da casa, o que é bem exibido pelos IQRs. Qual a relação dos escanteios com os chutes no gol? E com o número de gols? Métricas de ataque num geral?"
   ]
  },
  {
   "cell_type": "code",
   "execution_count": null,
   "metadata": {},
   "outputs": [],
   "source": [
    "univariada_variavel_numerica(games, ['Posse 1(%)', 'Posse 2(%)'])"
   ]
  },
  {
   "cell_type": "markdown",
   "metadata": {},
   "source": [
    "- O boxplot já exibe uma clara tendência de outliers para os 15% iniciais e finais de cada gráfico. Como não faz sentido considerar jogos com 0% ou 100% de posse por algum time, e há uma clara concentração de outliers nesta faixa, estes valores foram removidos.\n",
    "- Na posse de bola é possível ver claramente a assimetria entre times da casa e visitantes: o gráfico dos times da casa é assimétrico a esquerda, e o dos times visitantes é assimétrico a direita, revelando que os times da casa possuem uma tendência de maiores atuações durante o jogo\n",
    "- A posse se associa com algum parâmetro de desempenho? Ou possui apenas uma relação direta com maiores tentativas? Considerando apenas os valores na média, faz alguma diferença?"
   ]
  },
  {
   "cell_type": "code",
   "execution_count": null,
   "metadata": {},
   "outputs": [],
   "source": [
    "univariada_variavel_categoria(games, ['Time 1', 'Time 2'])"
   ]
  },
  {
   "cell_type": "markdown",
   "metadata": {},
   "source": [
    "São 310 times no total, porém alguns times possuem pouquíssimos jogos. Será que vale considerar todos eles no modelo? Dá pra excluir alguns times que gerem resultados com outliers fortes (como 100% de vitórias ou 100% de derrotas), ou onde seus jogos sejam com outros times que também possuem poucos jogos nos dados?"
   ]
  },
  {
   "cell_type": "code",
   "execution_count": null,
   "metadata": {},
   "outputs": [],
   "source": [
    "univariada_variavel_categoria(games, ['Position 1', 'Position 2'])"
   ]
  },
  {
   "cell_type": "markdown",
   "metadata": {},
   "source": [
    "- Posições relevantes: \"4-2-3-1\", \"4-4-2\", \"4-3-3\", e definir uma categoria \"Outros\" para as demais formações.\n",
    "- Existe alguma relação entre as posições 4-4-2 e 4-3-3?\n",
    "- Qual a relação de vitória dos times com a formação escolhida? Há alguma relação clara?"
   ]
  },
  {
   "cell_type": "code",
   "execution_count": null,
   "metadata": {},
   "outputs": [],
   "source": [
    "univariada_variavel_categoria(games, ['Resultado'])"
   ]
  },
  {
   "cell_type": "markdown",
   "metadata": {},
   "source": []
  },
  {
   "cell_type": "markdown",
   "metadata": {},
   "source": [
    "# Análise de dados multivariada\n",
    "\n",
    "- Considerando então a quantidade de dados disponíveis, vamos estudar o conjunto de dados que possui menos de 11% de dados faltantes, de forma que podemos ter um insight mais geral com uma quantidade maior de dados para as disputas entre esses times\n",
    "- Os outros dados também possuem relevância, porém podemos considerar que a minoria das partidas que possuem uma quantidade grande de dados disponíveis para serem estudados. Portanto, com certeza são dados relevantes que adicionam informação no que pode ser estudado e modelado, porém devem ser analisadas separadamente, de forma a gerar um outro dataset para modelagem, ou para encontrar relações entre as variáveis com maior disponibilidade que não poderiam ser encontradas sem uma variável intermediária."
   ]
  },
  {
   "cell_type": "code",
   "execution_count": null,
   "metadata": {},
   "outputs": [],
   "source": [
    "sns.boxplot(x=\"Chutes a gol 1\", y=\"Gols 1\", data=games)"
   ]
  },
  {
   "cell_type": "code",
   "execution_count": null,
   "metadata": {
    "vscode": {
     "languageId": "ruby"
    }
   },
   "outputs": [],
   "source": [
    "# Define the threshold for the percentage of missing data\n",
    "threshold = 11  # Adjust this value as needed\n",
    "\n",
    "# Calculate the percentage of missing data for each column\n",
    "column_missing_percentage = games.isnull().sum() / games.shape[0] * 100\n",
    "\n",
    "# Identify columns where the percentage of missing data is greater than the threshold\n",
    "columns_to_drop = column_missing_percentage[column_missing_percentage > threshold].index\n",
    "\n",
    "# Remove the identified columns from the DataFrame\n",
    "filtered_games = games.drop(columns=columns_to_drop).dropna()\n",
    "\n",
    "## Removing the same data as before\n",
    "# filtered_games.drop(filtered_games[filtered_games[\"Chutes fora 2\"] == 748.0].index, inplace=True)\n",
    "# filtered_games.drop(filtered_games[filtered_games[\"Chutes a gol 1\"] == 90.0].index, inplace=True)\n",
    "# filtered_games.drop(filtered_games[filtered_games[\"Chutes a gol 2\"].isin([80.0, 30.0])].index, inplace=True)\n",
    "# filtered_games.drop(filtered_games[(filtered_games[\"Faltas 1\"] > 40.0) | (filtered_games[\"Faltas 2\"] > 40.0)].index, inplace=True)\n",
    "# filtered_games.drop(filtered_games[(filtered_games[\"Impedimentos 1\"] > 12.0) | (filtered_games[\"Impedimentos 2\"] > 12.0)].index, inplace=True)\n",
    "# filtered_games.drop(filtered_games[(filtered_games[\"Posse 1(%)\"] < 15.0) | (filtered_games[\"Posse 1(%)\"] > 85.0)].index, inplace=True)\n",
    "# filtered_games.drop(filtered_games[(filtered_games[\"Posse 2(%)\"] < 15.0) | (filtered_games[\"Posse 2(%)\"] > 85.0)].index, inplace=True)\n",
    "\n",
    "filtered_games.info()"
   ]
  },
  {
   "cell_type": "code",
   "execution_count": null,
   "metadata": {
    "vscode": {
     "languageId": "ruby"
    }
   },
   "outputs": [],
   "source": [
    "print(filtered_games.describe(include='all'))"
   ]
  },
  {
   "cell_type": "markdown",
   "metadata": {},
   "source": [
    "- Podemos observar que ao remover as colunas com menos dados, os dados removidos na análise univariada não estão mais presentes."
   ]
  },
  {
   "cell_type": "code",
   "execution_count": null,
   "metadata": {
    "vscode": {
     "languageId": "ruby"
    }
   },
   "outputs": [],
   "source": []
  }
 ],
 "metadata": {
  "kernelspec": {
   "display_name": "Python 3",
   "language": "python",
   "name": "python3"
  },
  "language_info": {
   "codemirror_mode": {
    "name": "ipython",
    "version": 3
   },
   "file_extension": ".py",
   "mimetype": "text/x-python",
   "name": "python",
   "nbconvert_exporter": "python",
   "pygments_lexer": "ipython3",
   "version": "3.13.1"
  }
 },
 "nbformat": 4,
 "nbformat_minor": 2
}
